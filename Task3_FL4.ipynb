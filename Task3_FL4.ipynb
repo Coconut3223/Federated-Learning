{
  "cells": [
    {
      "cell_type": "markdown",
      "metadata": {
        "id": "view-in-github",
        "colab_type": "text"
      },
      "source": [
        "<a href=\"https://colab.research.google.com/github/Coconut3223/Federated-learning/blob/main/Task3_FL4.ipynb\" target=\"_parent\"><img src=\"https://colab.research.google.com/assets/colab-badge.svg\" alt=\"Open In Colab\"/></a>"
      ]
    },
    {
      "cell_type": "markdown",
      "source": [
        "# Config:"
      ],
      "metadata": {
        "id": "Jrjl0N9aVzBw"
      },
      "id": "Jrjl0N9aVzBw"
    },
    {
      "cell_type": "code",
      "execution_count": null,
      "id": "84bc6630",
      "metadata": {
        "id": "84bc6630",
        "cellView": "form"
      },
      "outputs": [],
      "source": [
        "#@title import Necessary package \n",
        "import copy\n",
        "import torch\n",
        "import torch.nn as nn\n",
        "import torchvision\n",
        "import torchvision.transforms as transforms\n",
        "import torch.nn.functional as F\n",
        "import numpy as np\n",
        "from torch.utils.data import Dataset, DataLoader\n",
        "import ssl\n",
        "ssl._create_default_https_context = ssl._create_unverified_context\n",
        "import pandas as pd\n",
        "import numpy as np\n",
        "import torch\n",
        "from sklearn.model_selection import train_test_split\n",
        "from sklearn.preprocessing import StandardScaler\n",
        "import matplotlib.pyplot as plt\n"
      ]
    },
    {
      "cell_type": "code",
      "source": [
        "#@title Google drive \n",
        "#read data from Google drive\n",
        "from google.colab import drive\n",
        "import os\n",
        "import pandas as pd\n",
        "drive.mount('/content/drive', force_remount=True)\n",
        "os.chdir(\"/content/drive/My Drive/COMP5434_Proj\")\n",
        "!ls"
      ],
      "metadata": {
        "colab": {
          "base_uri": "https://localhost:8080/"
        },
        "id": "ww_mfLtA3IZZ",
        "outputId": "118f838b-b887-4f27-c809-f7c2a56b25bf"
      },
      "id": "ww_mfLtA3IZZ",
      "execution_count": null,
      "outputs": [
        {
          "output_type": "stream",
          "name": "stdout",
          "text": [
            "Mounted at /content/drive\n",
            "Task3_FL4.ipynb  Train_Data_ConvertedDropped1.csv\n"
          ]
        }
      ]
    },
    {
      "cell_type": "code",
      "execution_count": null,
      "id": "3f5844e8",
      "metadata": {
        "id": "3f5844e8",
        "cellView": "form"
      },
      "outputs": [],
      "source": [
        "#@title  Model: MLP ( same as Task2\n",
        "class MLP(nn.Module):\n",
        "    def __init__(self):\n",
        "        super(MLP,self).__init__()\n",
        "        self.module = torch.nn.Sequential(\n",
        "            torch.nn.Linear(10, 64),\n",
        "            torch.nn.ReLU(),\n",
        "            torch.nn.Linear(64, 32),\n",
        "            torch.nn.ReLU(),\n",
        "            torch.nn.Linear(32, 4),\n",
        "        )\n",
        "    def forward(self, x):\n",
        "        x =  self.module(x)\n",
        "        return x"
      ]
    },
    {
      "cell_type": "code",
      "source": [
        "#@title config\n",
        "dataset_path = \"./Train_Data_ConvertedDropped1.csv\"\n",
        "test_path = None\n",
        "user_num = 4\n",
        "alpha = None\n",
        "batch_size = 50\n",
        "global_rounds = 60\n",
        "local_epochs = 30"
      ],
      "metadata": {
        "id": "Hhitq2I_V3Y4"
      },
      "id": "Hhitq2I_V3Y4",
      "execution_count": null,
      "outputs": []
    },
    {
      "cell_type": "markdown",
      "id": "1cede9a9",
      "metadata": {
        "id": "1cede9a9"
      },
      "source": [
        "# Load dataset"
      ]
    },
    {
      "cell_type": "code",
      "source": [
        "#@title feature process ( same as Task2\n",
        "def feature_process(X):\n",
        "    \"\"\"\n",
        "    :param X: features need to be StandardScaler\n",
        "    :return : (format: \n",
        "    \"\"\"\n",
        "    scaler = StandardScaler()\n",
        "    X = scaler.fit_transform(X)\n",
        "    \n",
        "    return X\n",
        "def label_process(y):\n",
        "    \"\"\"\n",
        "    : param y: total cost \n",
        "    : return : cost level (format: \n",
        "    \"\"\"\n",
        "    bins = [0, 300000, 500000, 700000, np.inf]\n",
        "    labels = [0, 2, 2, 3]\n",
        "    y = pd.cut(y, bins=bins, labels=labels)\n",
        "    y = np.array(y)\n",
        "    return y\n"
      ],
      "metadata": {
        "id": "5omYnW0vxNad"
      },
      "id": "5omYnW0vxNad",
      "execution_count": null,
      "outputs": []
    },
    {
      "cell_type": "code",
      "source": [
        "#@title transform data into dataset which can be further transformed into dataloader\n",
        "class toDataset(Dataset):\n",
        "    \"\"\"\n",
        "    :param Dataset: [X,y] (np.array\n",
        "    :return: (torch.dataset\n",
        "    \"\"\"\n",
        "    def __init__(self, features, labels):\n",
        "        self.features = torch.from_numpy(features)\n",
        "        self.labels = torch.from_numpy(labels)\n",
        "    \n",
        "    def __len__(self):\n",
        "        return len(self.labels)\n",
        "    \n",
        "    def __getitem__(self, index):\n",
        "        return self.features[index], self.labels[index]\n",
        "\n",
        "class DatasetSplit(Dataset):\n",
        "    \"\"\"\n",
        "    help simulate different distributions, IID, Non-IID \n",
        "    :param Dataset: the whole dataset\n",
        "    :return: the whole dataset and indices of whole dataset which are assigned to the sub-dataset\n",
        "    \"\"\"\n",
        "\n",
        "    def __init__(self, dataset, idxs):\n",
        "        self.dataset = dataset\n",
        "        self.idxs = [int(i) for i in idxs]\n",
        "\n",
        "    def __len__(self):\n",
        "        return len(self.idxs)\n",
        "\n",
        "    def __getitem__(self, item):\n",
        "        features, labels = self.dataset[self.idxs[item]]\n",
        "        return torch.tensor(features), torch.tensor(labels)\n",
        "    \n",
        "    def getlabels(self):\n",
        "        labels = []\n",
        "        for item in range(len(self)):\n",
        "            labels.append(self.dataset[self.idxs[item]][1].item())\n",
        "        return labels"
      ],
      "metadata": {
        "id": "xWdJNPFrlzKT"
      },
      "id": "xWdJNPFrlzKT",
      "execution_count": null,
      "outputs": []
    },
    {
      "cell_type": "code",
      "execution_count": null,
      "id": "20715d35",
      "metadata": {
        "id": "20715d35"
      },
      "outputs": [],
      "source": [
        "#@title Load data\n",
        "def Load_data(dataset_path):\n",
        "    \"\"\"\n",
        "    :param path: (csv\n",
        "    :return: train dataset and test dataset (format: torch.dataset\n",
        "    :Setting: sf=features, train:test=9:1, valid<=>test\n",
        "    \"\"\"\n",
        "    dataset = pd.read_csv(dataset_path)\n",
        "    sf = ['number of rooms', 'security level of the community', 'residence space', 'building space', 'noise level', 'view','aboveground space ', 'basement space', 'LAT', \"building year\"]\n",
        "    X,y = feature_process(dataset[sf].values), label_process(dataset['total cost'].values)\n",
        "\n",
        "\n",
        "    X_train, X_test, y_train, y_test = train_test_split(X, y, test_size=0.1, random_state=42, shuffle=True)\n",
        "    dataset = toDataset(X, y)\n",
        "\n",
        "    train_dataset = toDataset(X_train, y_train)\n",
        "    test_dataset = toDataset(X_test, y_test)\n",
        "\n",
        "    return train_dataset, test_dataset"
      ]
    },
    {
      "cell_type": "markdown",
      "id": "5c029182",
      "metadata": {
        "id": "5c029182"
      },
      "source": [
        "# Simulate different distributions"
      ]
    },
    {
      "cell_type": "code",
      "execution_count": null,
      "id": "4553d040",
      "metadata": {
        "id": "4553d040"
      },
      "outputs": [],
      "source": [
        "#@title using dirichlet_distributiom\n",
        "\n",
        "def dirichlet_partition(training_data, testing_data, alpha, user_num):\n",
        "    \"\"\"\n",
        "    :param traning/testing_data: the whole datasert (torch.dataset\n",
        "    :param alpha: 0.5 non-iid 1000 ~ iid simulate iid by modifying alpha\n",
        "    \"\"\"\n",
        "    idxs_train = np.arange(len(training_data))\n",
        "    idxs_valid = np.arange(len(testing_data))\n",
        "    labels_train = training_data.labels\n",
        "    labels_valid = testing_data.labels\n",
        "\n",
        "    idxs_labels_train = np.vstack((idxs_train, labels_train))\n",
        "    idxs_labels_train = idxs_labels_train[:, idxs_labels_train[1,:].argsort()]\n",
        "    idxs_labels_valid = np.vstack((idxs_valid, labels_valid))\n",
        "    idxs_labels_valid = idxs_labels_valid[:, idxs_labels_valid[1,:].argsort()]\n",
        "\n",
        "    labels = np.unique(labels_train, axis=0)\n",
        "\n",
        "    data_train_dict = data_organize(idxs_labels_train, labels)\n",
        "    data_valid_dict = data_organize(idxs_labels_valid, labels)\n",
        "\n",
        "    data_partition_profile_train = {}\n",
        "    data_partition_profile_valid = {}\n",
        "\n",
        "\n",
        "    for i in range(user_num):\n",
        "        data_partition_profile_train[i] = []\n",
        "        data_partition_profile_valid[i] = []\n",
        "\n",
        "    ## Distribute rest data\n",
        "    for label in data_train_dict:\n",
        "        proportions = np.random.dirichlet(np.repeat(alpha, user_num))\n",
        "        proportions_train = len(data_train_dict[label])*proportions\n",
        "        proportions_valid = len(data_valid_dict[label]) * proportions\n",
        "\n",
        "        for user in data_partition_profile_train:\n",
        "\n",
        "            data_partition_profile_train[user]   \\\n",
        "                = set.union(set(np.random.choice(data_train_dict[label], int(proportions_train[user]) , replace = False)), data_partition_profile_train[user])\n",
        "            data_train_dict[label] = list(set(data_train_dict[label])-data_partition_profile_train[user])\n",
        "\n",
        "\n",
        "            data_partition_profile_valid[user] = set.union(set(\n",
        "                np.random.choice(data_valid_dict[label], int(proportions_valid[user]),\n",
        "                                 replace=False)), data_partition_profile_valid[user])\n",
        "            data_valid_dict[label] = list(set(data_valid_dict[label]) - data_partition_profile_valid[user])\n",
        "\n",
        "\n",
        "        while len(data_train_dict[label]) != 0:\n",
        "            rest_data = data_train_dict[label][0]\n",
        "            user = np.random.randint(0, user_num)\n",
        "            data_partition_profile_train[user].add(rest_data)\n",
        "            data_train_dict[label].remove(rest_data)\n",
        "\n",
        "        while len(data_valid_dict[label]) != 0:\n",
        "            rest_data = data_valid_dict[label][0]\n",
        "            user = np.random.randint(0, user_num)\n",
        "            data_partition_profile_valid[user].add(rest_data)\n",
        "            data_valid_dict[label].remove(rest_data)\n",
        "\n",
        "    for user in data_partition_profile_train:\n",
        "        data_partition_profile_train[user] = list(data_partition_profile_train[user])\n",
        "        data_partition_profile_valid[user] = list(data_partition_profile_valid[user])\n",
        "        np.random.shuffle(data_partition_profile_train[user])\n",
        "        np.random.shuffle(data_partition_profile_valid[user])\n",
        "\n",
        "    return data_partition_profile_train, data_partition_profile_valid\n",
        "\n",
        "\n",
        "def data_organize(idxs_labels, labels):\n",
        "    data_dict = {}\n",
        "\n",
        "    labels = np.unique(labels, axis=0)\n",
        "    for one in labels:\n",
        "        data_dict[one] = []\n",
        "\n",
        "    for i in range(len(idxs_labels[1, :])):\n",
        "        data_dict[idxs_labels[1, i]].append(idxs_labels[0, i])\n",
        "    return data_dict\n"
      ]
    },
    {
      "cell_type": "code",
      "source": [
        "#@title check_Distribution using bar plot\n",
        "\n",
        "def checkDistribution(train_data_list):\n",
        "    \"\"\"\n",
        "    :param train_data_list: [#client, torch.dataset]\n",
        "    \"\"\"\n",
        "    users = []\n",
        "    for user_index in train_data_list:\n",
        "        labels = user_index.getlabels()\n",
        "        label_count_dict = dict(pd.value_counts(labels))\n",
        "        label_count_list=[]\n",
        "        for i in range(4):\n",
        "            label_count_list.append(label_count_dict[i])\n",
        "            print(label_count_list)\n",
        "        users.append(label_count_list)\n",
        "        print(\"users:\",users)\n",
        "    labels = [\"client_0\",\"client_1\",\"client_2\",\"client_3\"]\n",
        "    x = range(len(labels))\n",
        "    width = 0.35\n",
        "    legend = []\n",
        "\n",
        "    bottom_y = np.zeros(len(labels))\n",
        "    data = np.array(users)\n",
        "    plt.figure(figsize=(5,5))\n",
        "    sums = np.sum(data, axis=0) \n",
        "    for i in range(len(data)):\n",
        "        y = data[i] / sums\n",
        "        plt.bar(x, y, width, bottom=bottom_y)\n",
        "        bottom_y = y + bottom_y\n",
        "    \n",
        "    legend=plt.legend(title='Cost Level',labels=[1,2,3,4], fontsize=16, loc='upper right', bbox_to_anchor=(1.4, 0.8),frameon=False)\n",
        "    plt.xticks(x, labels,fontsize=16)\n",
        "    legend.get_title().set_fontsize('17')\n",
        "    plt.ylabel(\"percentage\",fontsize=16)\n",
        "    plt.title('Distribution of data of Clients ',fontsize=20)\n",
        "    plt.show()\n"
      ],
      "metadata": {
        "id": "LZ4QLkEhOX0N"
      },
      "id": "LZ4QLkEhOX0N",
      "execution_count": null,
      "outputs": []
    },
    {
      "cell_type": "markdown",
      "id": "c4c11aaf",
      "metadata": {
        "id": "c4c11aaf"
      },
      "source": [
        "# FL architecture"
      ]
    },
    {
      "cell_type": "code",
      "execution_count": null,
      "id": "080e83e6",
      "metadata": {
        "id": "080e83e6"
      },
      "outputs": [],
      "source": [
        "#@title Local Training function\n",
        "def local_trainer(dataset, model, device, local_epoch, batchsize):\n",
        "    \"\"\"\n",
        "    :target: finish all local training in each global around\n",
        "    :param dataset: local dataset of each client\n",
        "    :param model: global model\n",
        "    :param device: gpu\n",
        "    :param local epoch: set in config\n",
        "    :param batchsize:  set in config\n",
        "    :return model.state_dict(): updated client's local model's parameters packed in dic\n",
        "    :return loss: epoch loss\n",
        "    \"\"\"\n",
        "    dataloader = DataLoader(dataset, batch_size=batchsize, shuffle=True)\n",
        "    criterion = nn.CrossEntropyLoss().to(device)\n",
        "    model.train()\n",
        "    epoch_loss = []\n",
        "    optimizer = torch.optim.Adam(model.parameters(), lr=0.0001, betas=(0.9,0.999), eps=1e-08, weight_decay=0)\n",
        "    for iter in range(local_epoch):\n",
        "        batch_loss = []\n",
        "        for batch_idx, (features, labels) in enumerate(dataloader):\n",
        "            features, labels = features.type(torch.FloatTensor).to(device), labels.to(device)\n",
        "            model.zero_grad()\n",
        "            logits = model(features)\n",
        "            loss = criterion(logits, labels)\n",
        "            loss.backward()\n",
        "            optimizer.step()\n",
        "            batch_loss.append(loss.item())\n",
        "            \n",
        "        epoch_loss.append(sum(batch_loss)/len(batch_loss))\n",
        "       \n",
        "    return model.state_dict(), sum(epoch_loss) / len(epoch_loss)"
      ]
    },
    {
      "cell_type": "code",
      "execution_count": null,
      "id": "58f22cbf",
      "metadata": {
        "id": "58f22cbf"
      },
      "outputs": [],
      "source": [
        "def inference(model, testloader):\n",
        "    \"\"\" \n",
        "    :target: test the accuracy on validation dataset after every global communication\n",
        "    :param model: global model\n",
        "    :return  accuracy, loss: \n",
        "    \"\"\"\n",
        "    model.eval()\n",
        "    criterion = nn.CrossEntropyLoss().to(device)\n",
        "    loss, total, correct = 0.0, 0.0, 0.0\n",
        "    for batch_idx, (features, labels) in enumerate(testloader):\n",
        "        features, labels = features.type(torch.FloatTensor).to(device), labels.to(device)\n",
        "        # Inference\n",
        "        outputs = model(features)\n",
        "        batch_loss = criterion(outputs, labels)\n",
        "        loss += batch_loss.item()\n",
        "\n",
        "        # Prediction\n",
        "        _, pred_labels = torch.max(outputs, 1)\n",
        "        pred_labels = pred_labels.view(-1)\n",
        "        correct += torch.sum(torch.eq(pred_labels, labels)).item()\n",
        "        total += len(labels)\n",
        "    loss /= batch_idx\n",
        "    accuracy = correct/total\n",
        "    return accuracy, loss"
      ]
    },
    {
      "cell_type": "markdown",
      "source": [
        "## different aggregation strategies"
      ],
      "metadata": {
        "id": "I9ncjnDsUbtj"
      },
      "id": "I9ncjnDsUbtj"
    },
    {
      "cell_type": "code",
      "execution_count": null,
      "id": "e30ed483",
      "metadata": {
        "id": "e30ed483"
      },
      "outputs": [],
      "source": [
        "#@title Avg\n",
        "def average_weights(w):\n",
        "    \"\"\"\n",
        "    :param w: all local parameters [4, parameter]\n",
        "    :return w_avg: new global parameters after aggregation\n",
        "    \"\"\"\n",
        "    w_avg = copy.deepcopy(w[0])\n",
        "    for key in w_avg.keys():\n",
        "        for i in range(1, len(w)):\n",
        "            w_avg[key] += w[i][key]\n",
        "        w_avg[key] = torch.div(w_avg[key].float(), len(w))\n",
        "    return w_avg"
      ]
    },
    {
      "cell_type": "code",
      "source": [
        "#@title Weighted Avg depending on #data each client has\n",
        "def weighted_average_weights(w, proportion):\n",
        "    \"\"\"\n",
        "    :param w: all local parameters [4, parameter]\n",
        "    :param proprtion: proportion of each client which sum= 1, [4]\n",
        "    :return w_avg: new global parameters after aggregation\n",
        "    \"\"\"\n",
        "    w_wavg = copy.deepcopy(w[0]) \n",
        "\n",
        "    for key in w_wavg.keys():\n",
        "        w_wavg[key] = 0\n",
        "        for i in range(0, len(w)):\n",
        "            w_wavg[key] += w[i][key].float() * proportion[i]\n",
        "    return w_wavg"
      ],
      "metadata": {
        "id": "jeOpekcZGPes"
      },
      "id": "jeOpekcZGPes",
      "execution_count": null,
      "outputs": []
    },
    {
      "cell_type": "markdown",
      "source": [
        "# __Main__"
      ],
      "metadata": {
        "id": "2Ynh9TG_ZMxh"
      },
      "id": "2Ynh9TG_ZMxh"
    },
    {
      "cell_type": "markdown",
      "source": [
        "## IID"
      ],
      "metadata": {
        "id": "-GFiN3WDWIJB"
      },
      "id": "-GFiN3WDWIJB"
    },
    {
      "cell_type": "code",
      "source": [
        "alpha = 1000"
      ],
      "metadata": {
        "id": "cVXVMYHsWLHo"
      },
      "id": "cVXVMYHsWLHo",
      "execution_count": null,
      "outputs": []
    },
    {
      "cell_type": "code",
      "source": [
        "\"\"\" load and split data  \"\"\"\n",
        "train_dataset, test_dataset = Load_data(dataset_path)\n",
        "train_index, test_index = dirichlet_partition(train_dataset, test_dataset, alpha=alpha, user_num=user_num)\n",
        "\n",
        "\"\"\" divide dataset to clients\"\"\"\n",
        "train_data_list = []\n",
        "for user_index in range(user_num):\n",
        "    train_data_list.append(DatasetSplit(train_dataset, train_index[user_index]))\n",
        "checkDistribution(train_data_list)"
      ],
      "metadata": {
        "id": "72Y7-zdOZaYx",
        "outputId": "ad8d2899-8da0-45e7-a1a9-597565652411",
        "colab": {
          "base_uri": "https://localhost:8080/",
          "height": 834
        }
      },
      "id": "72Y7-zdOZaYx",
      "execution_count": null,
      "outputs": [
        {
          "output_type": "stream",
          "name": "stdout",
          "text": [
            "[202]\n",
            "[202, 339]\n",
            "[202, 339, 217]\n",
            "[202, 339, 217, 167]\n",
            "users: [[202, 339, 217, 167]]\n",
            "[195]\n",
            "[195, 336]\n",
            "[195, 336, 199]\n",
            "[195, 336, 199, 174]\n",
            "users: [[202, 339, 217, 167], [195, 336, 199, 174]]\n",
            "[196]\n",
            "[196, 329]\n",
            "[196, 329, 207]\n",
            "[196, 329, 207, 161]\n",
            "users: [[202, 339, 217, 167], [195, 336, 199, 174], [196, 329, 207, 161]]\n",
            "[184]\n",
            "[184, 325]\n",
            "[184, 325, 205]\n",
            "[184, 325, 205, 164]\n",
            "users: [[202, 339, 217, 167], [195, 336, 199, 174], [196, 329, 207, 161], [184, 325, 205, 164]]\n"
          ]
        },
        {
          "output_type": "display_data",
          "data": {
            "text/plain": [
              "<Figure size 500x500 with 1 Axes>"
            ],
            "image/png": "[encoded data removed]"
          },
          "metadata": {}
        }
      ]
    },
    {
      "cell_type": "code",
      "execution_count": null,
      "id": "17ebcb19",
      "metadata": {
        "id": "17ebcb19",
        "colab": {
          "base_uri": "https://localhost:8080/"
        },
        "outputId": "4b024d7e-04ec-4397-867b-d5c3800357c7"
      },
      "outputs": [
        {
          "output_type": "stream",
          "name": "stderr",
          "text": [
            "<ipython-input-7-46581b821845>:33: UserWarning: To copy construct from a tensor, it is recommended to use sourceTensor.clone().detach() or sourceTensor.clone().detach().requires_grad_(True), rather than torch.tensor(sourceTensor).\n",
            "  return torch.tensor(features), torch.tensor(labels)\n"
          ]
        },
        {
          "output_type": "stream",
          "name": "stdout",
          "text": [
            "Global Round :0, the global accuracy is 52.8%, and the global loss is 1.19.\n",
            "Global Round :1, the global accuracy is 60.0%, and the global loss is 1.0.\n",
            "Global Round :2, the global accuracy is 62.7%, and the global loss is 0.94.\n",
            "Global Round :3, the global accuracy is 64.2%, and the global loss is 0.911.\n",
            "Global Round :4, the global accuracy is 65.2%, and the global loss is 0.891.\n",
            "Global Round :5, the global accuracy is 67.2%, and the global loss is 0.874.\n",
            "Global Round :6, the global accuracy is 68.2%, and the global loss is 0.862.\n",
            "Global Round :7, the global accuracy is 68.5%, and the global loss is 0.851.\n",
            "Global Round :8, the global accuracy is 69.8%, and the global loss is 0.842.\n",
            "Global Round :9, the global accuracy is 70.2%, and the global loss is 0.835.\n",
            "Global Round :10, the global accuracy is 70.0%, and the global loss is 0.829.\n",
            "Global Round :11, the global accuracy is 70.5%, and the global loss is 0.823.\n",
            "Global Round :12, the global accuracy is 70.8%, and the global loss is 0.818.\n",
            "Global Round :13, the global accuracy is 71.0%, and the global loss is 0.814.\n",
            "Global Round :14, the global accuracy is 71.8%, and the global loss is 0.81.\n",
            "Global Round :15, the global accuracy is 72.5%, and the global loss is 0.807.\n",
            "Global Round :16, the global accuracy is 72.5%, and the global loss is 0.805.\n",
            "Global Round :17, the global accuracy is 73.2%, and the global loss is 0.802.\n",
            "Global Round :18, the global accuracy is 73.5%, and the global loss is 0.801.\n",
            "Global Round :19, the global accuracy is 73.8%, and the global loss is 0.8.\n",
            "Global Round :20, the global accuracy is 74.0%, and the global loss is 0.798.\n",
            "Global Round :21, the global accuracy is 74.2%, and the global loss is 0.798.\n",
            "Global Round :22, the global accuracy is 74.2%, and the global loss is 0.798.\n",
            "Global Round :23, the global accuracy is 74.5%, and the global loss is 0.797.\n",
            "Global Round :24, the global accuracy is 73.8%, and the global loss is 0.795.\n",
            "Global Round :25, the global accuracy is 74.2%, and the global loss is 0.795.\n",
            "Global Round :26, the global accuracy is 74.5%, and the global loss is 0.795.\n",
            "Global Round :27, the global accuracy is 74.0%, and the global loss is 0.795.\n",
            "Global Round :28, the global accuracy is 74.0%, and the global loss is 0.794.\n",
            "Global Round :29, the global accuracy is 73.8%, and the global loss is 0.794.\n",
            "Global Round :30, the global accuracy is 74.0%, and the global loss is 0.793.\n",
            "Global Round :31, the global accuracy is 73.8%, and the global loss is 0.793.\n",
            "Global Round :32, the global accuracy is 74.5%, and the global loss is 0.793.\n",
            "Global Round :33, the global accuracy is 75.0%, and the global loss is 0.794.\n",
            "Global Round :34, the global accuracy is 74.5%, and the global loss is 0.792.\n",
            "Global Round :35, the global accuracy is 74.5%, and the global loss is 0.792.\n",
            "Global Round :36, the global accuracy is 74.5%, and the global loss is 0.793.\n",
            "Global Round :37, the global accuracy is 74.5%, and the global loss is 0.792.\n",
            "Global Round :38, the global accuracy is 74.5%, and the global loss is 0.793.\n",
            "Global Round :39, the global accuracy is 74.0%, and the global loss is 0.793.\n",
            "Global Round :40, the global accuracy is 74.0%, and the global loss is 0.793.\n",
            "Global Round :41, the global accuracy is 74.0%, and the global loss is 0.794.\n",
            "Global Round :42, the global accuracy is 73.8%, and the global loss is 0.794.\n",
            "Global Round :43, the global accuracy is 74.0%, and the global loss is 0.793.\n",
            "Global Round :44, the global accuracy is 73.5%, and the global loss is 0.793.\n",
            "Global Round :45, the global accuracy is 73.5%, and the global loss is 0.794.\n",
            "Global Round :46, the global accuracy is 73.0%, and the global loss is 0.794.\n",
            "Global Round :47, the global accuracy is 73.2%, and the global loss is 0.793.\n",
            "Global Round :48, the global accuracy is 73.2%, and the global loss is 0.793.\n",
            "Global Round :49, the global accuracy is 72.8%, and the global loss is 0.794.\n",
            "Global Round :50, the global accuracy is 73.0%, and the global loss is 0.794.\n",
            "Global Round :51, the global accuracy is 73.0%, and the global loss is 0.796.\n",
            "Global Round :52, the global accuracy is 73.0%, and the global loss is 0.797.\n",
            "Global Round :53, the global accuracy is 73.0%, and the global loss is 0.797.\n",
            "Global Round :54, the global accuracy is 73.0%, and the global loss is 0.796.\n",
            "Global Round :55, the global accuracy is 73.0%, and the global loss is 0.797.\n",
            "Global Round :56, the global accuracy is 72.5%, and the global loss is 0.797.\n",
            "Global Round :57, the global accuracy is 72.5%, and the global loss is 0.797.\n",
            "Global Round :58, the global accuracy is 72.5%, and the global loss is 0.797.\n",
            "Global Round :59, the global accuracy is 73.0%, and the global loss is 0.797.\n"
          ]
        }
      ],
      "source": [
        "#@title global training\n",
        "\n",
        "\"\"\" train and test\"\"\"\n",
        "device = torch.device('cuda' if torch.cuda.is_available() else 'cpu')\n",
        "IID_global_model = MLP().to(device)\n",
        "test_loader = DataLoader(test_dataset, batch_size=batch_size, shuffle=True)\n",
        "IID_accu =[]\n",
        "IID_loss =[]\n",
        "for round_idx in range(global_rounds):\n",
        "    local_weights = []\n",
        "    local_losses = []\n",
        "    global_acc = []\n",
        "\n",
        "    for user_index in range(user_num):\n",
        "        model_weights, loss1 = local_trainer(train_data_list[user_index], copy.deepcopy(IID_global_model), device, local_epochs, batch_size)\n",
        "        local_weights.append(copy.deepcopy(model_weights))\n",
        "        local_losses.append(loss1)\n",
        "\n",
        "    global_weight = average_weights(local_weights)\n",
        "    IID_global_model.load_state_dict(global_weight)\n",
        "    test_acc, test_loss = inference(IID_global_model, test_loader)\n",
        "    IID_accu.append(test_acc)\n",
        "    IID_loss.append(test_loss)\n",
        "    print('Global Round :{}, the global accuracy is {:.3}%, and the global loss is {:.3}.'.format(round_idx, 100 * test_acc, test_loss))"
      ]
    },
    {
      "cell_type": "code",
      "source": [
        "#@title predict test_dataset\n",
        "from numpy import argmax\n",
        "test_path = \"./Test_Data_Converted&Dropped.csv\"\n",
        "\n",
        "test_dataset_csv = pd.read_csv(test_path)\n",
        "sf = ['number of rooms', 'security level of the community', 'residence space', 'building space', 'noise level', 'view','aboveground space ', 'basement space', 'LAT', \"building year\"]\n",
        "test_X = feature_process(test_dataset_csv[sf].values)\n",
        "\n",
        "test_dataset = toDataset(test_X, np.array([]*len(test_dataset)))\n",
        "test_features = test_dataset.features.type(torch.FloatTensor).to(device)\n",
        "outputs = [argmax(p.detach().numpy())+1 for p in IID_global_model(test_features)]\n",
        "print(len(outputs),outputs[:5])\n",
        "test_dataset_csv[\"total cost\"] = outputs\n",
        "test_dataset_csv.to_csv(\"./Test_Data_Task3.csv\")\n"
      ],
      "metadata": {
        "id": "VzwcSpMggnVi",
        "colab": {
          "base_uri": "https://localhost:8080/"
        },
        "outputId": "b4a3208e-4f14-4fa0-d346-a6db87f230d9"
      },
      "id": "VzwcSpMggnVi",
      "execution_count": null,
      "outputs": [
        {
          "output_type": "stream",
          "name": "stdout",
          "text": [
            "[[ 0.8977427   0.51338996  0.71284242 -0.44267423 -0.05037663 -0.49760208\n",
            "   0.21186595  1.40907045  0.50448927 -1.15235401]\n",
            " [-0.95805616 -1.01531463 -0.89824688 -0.33194387 -0.96631537 -0.49760208\n",
            "  -0.87329753 -0.56397981  0.65168037 -0.15068034]\n",
            " [-0.95805616 -1.01531463 -0.83745106 -0.13262924 -0.96631537 -0.49760208\n",
            "  -0.79508755 -0.56397981  1.00149443 -0.32239583]\n",
            " [ 1.82564213  0.51338996  1.26760431  0.21519435  0.86556211  2.93413641\n",
            "   1.63919809 -0.01699558  0.09778411 -0.80892304]\n",
            " [-0.95805616 -1.01531463 -0.82225211 -0.31240322 -0.96631537 -0.49760208\n",
            "  -0.77553505 -0.56397981  1.04018345 -0.15068034]]\n",
            "400 [4, 2, 2, 4, 2]\n"
          ]
        }
      ]
    },
    {
      "cell_type": "markdown",
      "source": [
        "## Non-IID"
      ],
      "metadata": {
        "id": "Mq-KGRhuYB-7"
      },
      "id": "Mq-KGRhuYB-7"
    },
    {
      "cell_type": "code",
      "source": [
        "alpha = 0.5"
      ],
      "metadata": {
        "id": "SGwJoPZmWVRw"
      },
      "id": "SGwJoPZmWVRw",
      "execution_count": null,
      "outputs": []
    },
    {
      "cell_type": "code",
      "source": [
        "\"\"\" load and split data  \"\"\"\n",
        "train_dataset, test_dataset = Load_data(dataset_path)\n",
        "train_index, test_index = dirichlet_partition(train_dataset, test_dataset, alpha=alpha, user_num=user_num)\n",
        "\n",
        "\"\"\" divide dataset to clients\"\"\"\n",
        "train_data_list = []\n",
        "for user_index in range(user_num):\n",
        "    train_data_list.append(DatasetSplit(train_dataset, train_index[user_index]))\n",
        "checkDistribution(train_data_list)"
      ],
      "metadata": {
        "id": "OCPYecy2Yda0",
        "colab": {
          "base_uri": "https://localhost:8080/",
          "height": 694
        },
        "outputId": "2d4b62ac-4086-4d0f-c57e-1c8568f817f8"
      },
      "id": "OCPYecy2Yda0",
      "execution_count": null,
      "outputs": [
        {
          "output_type": "stream",
          "name": "stdout",
          "text": [
            "[73]\n",
            "[73, 15]\n",
            "[73, 15, 247]\n",
            "[73, 15, 247, 34]\n",
            "users: [[73, 15, 247, 34]]\n",
            "[352]\n",
            "[352, 837]\n",
            "[352, 837, 470]\n",
            "[352, 837, 470, 91]\n",
            "users: [[73, 15, 247, 34], [352, 837, 470, 91]]\n",
            "[73]\n",
            "[73, 421]\n",
            "[73, 421, 3]\n",
            "[73, 421, 3, 52]\n",
            "users: [[73, 15, 247, 34], [352, 837, 470, 91], [73, 421, 3, 52]]\n",
            "[279]\n",
            "[279, 56]\n",
            "[279, 56, 108]\n",
            "[279, 56, 108, 489]\n",
            "users: [[73, 15, 247, 34], [352, 837, 470, 91], [73, 421, 3, 52], [279, 56, 108, 489]]\n"
          ]
        },
        {
          "output_type": "display_data",
          "data": {
            "text/plain": [
              "<Figure size 360x360 with 1 Axes>"
            ],
            "image/png": "[encoded data removed]"
          },
          "metadata": {
            "needs_background": "light"
          }
        }
      ]
    },
    {
      "cell_type": "code",
      "source": [
        "y=[]\n",
        "for i in range(4):\n",
        "    y.append(len(train_data_list[i]))\n",
        "x=[1,2,3,4]\n",
        "labels = [\"client_0\",\"client_1\",\"client_2\",\"client_3\"]\n",
        "plt.bar(x,y)\n",
        "plt.xticks(x, labels,fontsize=16)\n",
        "plt.ylabel(\"amount\",fontsize=16)\n",
        "plt.title(\"the amount of clients\",fontsize=20)\n",
        "plt.show()"
      ],
      "metadata": {
        "id": "G_stblP5X_yr",
        "colab": {
          "base_uri": "https://localhost:8080/",
          "height": 293
        },
        "outputId": "a9dbc89f-97ea-4340-a7ec-7897f2c000f9"
      },
      "id": "G_stblP5X_yr",
      "execution_count": null,
      "outputs": [
        {
          "output_type": "display_data",
          "data": {
            "text/plain": [
              "<Figure size 432x288 with 1 Axes>"
            ],
            "image/png": "[encoded data removed]"
          },
          "metadata": {
            "needs_background": "light"
          }
        }
      ]
    },
    {
      "cell_type": "code",
      "source": [
        "#@title global training with FedAvg\n",
        "\n",
        "\"\"\" train and test\"\"\"\n",
        "device = torch.device('cuda' if torch.cuda.is_available() else 'cpu')\n",
        "global_model = MLP().to(device)\n",
        "test_loader = DataLoader(test_dataset, batch_size=batch_size, shuffle=True)\n",
        "NIID_accu =[]\n",
        "NIID_loss =[]\n",
        "for round_idx in range(global_rounds):\n",
        "    local_weights = []\n",
        "    local_losses = []\n",
        "    global_acc = []\n",
        "\n",
        "    for user_index in range(user_num):\n",
        "        model_weights, loss1 = local_trainer(train_data_list[user_index], copy.deepcopy(global_model), device, local_epochs, batch_size)\n",
        "        local_weights.append(copy.deepcopy(model_weights))\n",
        "        local_losses.append(loss1)\n",
        "\n",
        "    global_weight = average_weights(local_weights)\n",
        "    global_model.load_state_dict(global_weight)\n",
        "    test_acc, test_loss = inference(global_model, test_loader)\n",
        "    NIID_accu.append(test_acc)\n",
        "    NIID_loss.append(test_loss)\n",
        "    print('Global Round :{}, the global accuracy is {:.3}%, and the global loss is {:.3}.'.format(round_idx, 100 * test_acc, test_loss))"
      ],
      "metadata": {
        "id": "meAN5eUDXLtl",
        "colab": {
          "base_uri": "https://localhost:8080/"
        },
        "outputId": "3735c652-94c5-43c4-9fdf-d2150d6c9590"
      },
      "id": "meAN5eUDXLtl",
      "execution_count": null,
      "outputs": [
        {
          "output_type": "stream",
          "name": "stderr",
          "text": [
            "<ipython-input-54-46581b821845>:33: UserWarning: To copy construct from a tensor, it is recommended to use sourceTensor.clone().detach() or sourceTensor.clone().detach().requires_grad_(True), rather than torch.tensor(sourceTensor).\n",
            "  return torch.tensor(features), torch.tensor(labels)\n"
          ]
        },
        {
          "output_type": "stream",
          "name": "stdout",
          "text": [
            "Global Round :0, the global accuracy is 58.8%, and the global loss is 1.3.\n",
            "Global Round :1, the global accuracy is 59.0%, and the global loss is 1.09.\n",
            "Global Round :2, the global accuracy is 61.0%, and the global loss is 1.01.\n",
            "Global Round :3, the global accuracy is 62.0%, and the global loss is 0.964.\n",
            "Global Round :4, the global accuracy is 62.7%, and the global loss is 0.937.\n",
            "Global Round :5, the global accuracy is 63.7%, and the global loss is 0.919.\n",
            "Global Round :6, the global accuracy is 65.2%, and the global loss is 0.905.\n",
            "Global Round :7, the global accuracy is 65.5%, and the global loss is 0.893.\n",
            "Global Round :8, the global accuracy is 66.0%, and the global loss is 0.883.\n",
            "Global Round :9, the global accuracy is 66.2%, and the global loss is 0.875.\n",
            "Global Round :10, the global accuracy is 66.8%, and the global loss is 0.868.\n",
            "Global Round :11, the global accuracy is 67.5%, and the global loss is 0.86.\n",
            "Global Round :12, the global accuracy is 68.0%, and the global loss is 0.856.\n",
            "Global Round :13, the global accuracy is 69.5%, and the global loss is 0.851.\n",
            "Global Round :14, the global accuracy is 69.0%, and the global loss is 0.847.\n",
            "Global Round :15, the global accuracy is 69.8%, and the global loss is 0.844.\n",
            "Global Round :16, the global accuracy is 70.0%, and the global loss is 0.841.\n",
            "Global Round :17, the global accuracy is 71.0%, and the global loss is 0.838.\n",
            "Global Round :18, the global accuracy is 70.5%, and the global loss is 0.837.\n",
            "Global Round :19, the global accuracy is 70.2%, and the global loss is 0.834.\n",
            "Global Round :20, the global accuracy is 70.8%, and the global loss is 0.834.\n",
            "Global Round :21, the global accuracy is 71.0%, and the global loss is 0.833.\n",
            "Global Round :22, the global accuracy is 70.8%, and the global loss is 0.832.\n",
            "Global Round :23, the global accuracy is 71.0%, and the global loss is 0.832.\n",
            "Global Round :24, the global accuracy is 71.2%, and the global loss is 0.829.\n",
            "Global Round :25, the global accuracy is 71.5%, and the global loss is 0.83.\n",
            "Global Round :26, the global accuracy is 71.0%, and the global loss is 0.828.\n",
            "Global Round :27, the global accuracy is 71.0%, and the global loss is 0.828.\n",
            "Global Round :28, the global accuracy is 70.5%, and the global loss is 0.828.\n",
            "Global Round :29, the global accuracy is 70.2%, and the global loss is 0.828.\n",
            "Global Round :30, the global accuracy is 70.8%, and the global loss is 0.828.\n",
            "Global Round :31, the global accuracy is 71.2%, and the global loss is 0.827.\n",
            "Global Round :32, the global accuracy is 71.0%, and the global loss is 0.828.\n",
            "Global Round :33, the global accuracy is 71.5%, and the global loss is 0.827.\n",
            "Global Round :34, the global accuracy is 71.2%, and the global loss is 0.828.\n",
            "Global Round :35, the global accuracy is 70.5%, and the global loss is 0.828.\n",
            "Global Round :36, the global accuracy is 70.5%, and the global loss is 0.828.\n",
            "Global Round :37, the global accuracy is 71.0%, and the global loss is 0.827.\n",
            "Global Round :38, the global accuracy is 71.2%, and the global loss is 0.829.\n",
            "Global Round :39, the global accuracy is 71.5%, and the global loss is 0.829.\n",
            "Global Round :40, the global accuracy is 71.2%, and the global loss is 0.827.\n",
            "Global Round :41, the global accuracy is 71.2%, and the global loss is 0.83.\n",
            "Global Round :42, the global accuracy is 71.2%, and the global loss is 0.829.\n",
            "Global Round :43, the global accuracy is 71.2%, and the global loss is 0.829.\n",
            "Global Round :44, the global accuracy is 71.2%, and the global loss is 0.83.\n",
            "Global Round :45, the global accuracy is 71.0%, and the global loss is 0.83.\n",
            "Global Round :46, the global accuracy is 70.8%, and the global loss is 0.83.\n",
            "Global Round :47, the global accuracy is 70.8%, and the global loss is 0.83.\n",
            "Global Round :48, the global accuracy is 70.8%, and the global loss is 0.831.\n",
            "Global Round :49, the global accuracy is 70.5%, and the global loss is 0.831.\n",
            "Global Round :50, the global accuracy is 70.0%, and the global loss is 0.833.\n",
            "Global Round :51, the global accuracy is 70.2%, and the global loss is 0.832.\n",
            "Global Round :52, the global accuracy is 70.5%, and the global loss is 0.831.\n",
            "Global Round :53, the global accuracy is 70.8%, and the global loss is 0.833.\n",
            "Global Round :54, the global accuracy is 70.5%, and the global loss is 0.832.\n",
            "Global Round :55, the global accuracy is 70.8%, and the global loss is 0.831.\n",
            "Global Round :56, the global accuracy is 70.5%, and the global loss is 0.832.\n",
            "Global Round :57, the global accuracy is 70.8%, and the global loss is 0.833.\n",
            "Global Round :58, the global accuracy is 70.2%, and the global loss is 0.834.\n",
            "Global Round :59, the global accuracy is 70.5%, and the global loss is 0.833.\n"
          ]
        }
      ]
    },
    {
      "cell_type": "code",
      "source": [
        "#@title global training with Weighted_Avg\n",
        "\n",
        "\"\"\" train and test\"\"\"\n",
        "device = torch.device('cuda' if torch.cuda.is_available() else 'cpu')\n",
        "global_model = MLP().to(device)\n",
        "test_loader = DataLoader(test_dataset, batch_size=batch_size, shuffle=True)\n",
        "NIID_w_accu =[]\n",
        "NIID_w_loss =[]\n",
        "for round_idx in range(global_rounds):\n",
        "    local_weights = []\n",
        "    local_losses = []\n",
        "    global_acc = []\n",
        "\n",
        "    for user_index in range(user_num):\n",
        "        model_weights, loss1 = local_trainer(train_data_list[user_index], copy.deepcopy(global_model), device, local_epochs, batch_size)\n",
        "        local_weights.append(copy.deepcopy(model_weights))\n",
        "        local_losses.append(loss1)\n",
        "\n",
        "    global_weight = average_weights(local_weights)\n",
        "    global_model.load_state_dict(global_weight)\n",
        "    test_acc, test_loss = inference(global_model, test_loader)\n",
        "    NIID_w_accu.append(test_acc)\n",
        "    NIID_w_loss.append(test_loss)\n",
        "    print('Global Round :{}, the global accuracy is {:.3}%, and the global loss is {:.3}.'.format(round_idx, 100 * test_acc, test_loss))"
      ],
      "metadata": {
        "id": "5WCCuJ-tXeZz",
        "colab": {
          "base_uri": "https://localhost:8080/"
        },
        "outputId": "ec3ebd0a-c30f-4676-c11d-472396e03a7b"
      },
      "id": "5WCCuJ-tXeZz",
      "execution_count": null,
      "outputs": [
        {
          "output_type": "stream",
          "name": "stderr",
          "text": [
            "<ipython-input-54-46581b821845>:33: UserWarning: To copy construct from a tensor, it is recommended to use sourceTensor.clone().detach() or sourceTensor.clone().detach().requires_grad_(True), rather than torch.tensor(sourceTensor).\n",
            "  return torch.tensor(features), torch.tensor(labels)\n"
          ]
        },
        {
          "output_type": "stream",
          "name": "stdout",
          "text": [
            "Global Round :0, the global accuracy is 51.2%, and the global loss is 1.29.\n",
            "Global Round :1, the global accuracy is 54.2%, and the global loss is 1.11.\n",
            "Global Round :2, the global accuracy is 59.0%, and the global loss is 1.03.\n",
            "Global Round :3, the global accuracy is 60.2%, and the global loss is 0.987.\n",
            "Global Round :4, the global accuracy is 61.3%, and the global loss is 0.963.\n",
            "Global Round :5, the global accuracy is 62.3%, and the global loss is 0.946.\n",
            "Global Round :6, the global accuracy is 63.2%, and the global loss is 0.931.\n",
            "Global Round :7, the global accuracy is 64.0%, and the global loss is 0.921.\n",
            "Global Round :8, the global accuracy is 64.5%, and the global loss is 0.912.\n",
            "Global Round :9, the global accuracy is 64.5%, and the global loss is 0.902.\n",
            "Global Round :10, the global accuracy is 65.2%, and the global loss is 0.896.\n",
            "Global Round :11, the global accuracy is 65.8%, and the global loss is 0.889.\n",
            "Global Round :12, the global accuracy is 66.5%, and the global loss is 0.883.\n",
            "Global Round :13, the global accuracy is 67.0%, and the global loss is 0.878.\n",
            "Global Round :14, the global accuracy is 67.0%, and the global loss is 0.872.\n",
            "Global Round :15, the global accuracy is 68.5%, and the global loss is 0.867.\n",
            "Global Round :16, the global accuracy is 68.5%, and the global loss is 0.862.\n",
            "Global Round :17, the global accuracy is 69.2%, and the global loss is 0.858.\n",
            "Global Round :18, the global accuracy is 69.2%, and the global loss is 0.855.\n",
            "Global Round :19, the global accuracy is 70.2%, and the global loss is 0.851.\n",
            "Global Round :20, the global accuracy is 70.2%, and the global loss is 0.849.\n",
            "Global Round :21, the global accuracy is 70.5%, and the global loss is 0.846.\n",
            "Global Round :22, the global accuracy is 71.0%, and the global loss is 0.842.\n",
            "Global Round :23, the global accuracy is 71.5%, and the global loss is 0.841.\n",
            "Global Round :24, the global accuracy is 71.5%, and the global loss is 0.84.\n",
            "Global Round :25, the global accuracy is 71.8%, and the global loss is 0.839.\n",
            "Global Round :26, the global accuracy is 72.5%, and the global loss is 0.837.\n",
            "Global Round :27, the global accuracy is 72.8%, and the global loss is 0.836.\n",
            "Global Round :28, the global accuracy is 73.2%, and the global loss is 0.834.\n",
            "Global Round :29, the global accuracy is 73.2%, and the global loss is 0.832.\n",
            "Global Round :30, the global accuracy is 73.2%, and the global loss is 0.832.\n",
            "Global Round :31, the global accuracy is 73.0%, and the global loss is 0.831.\n",
            "Global Round :32, the global accuracy is 73.5%, and the global loss is 0.83.\n",
            "Global Round :33, the global accuracy is 73.2%, and the global loss is 0.83.\n",
            "Global Round :34, the global accuracy is 73.2%, and the global loss is 0.829.\n",
            "Global Round :35, the global accuracy is 73.8%, and the global loss is 0.829.\n",
            "Global Round :36, the global accuracy is 73.0%, and the global loss is 0.83.\n",
            "Global Round :37, the global accuracy is 72.8%, and the global loss is 0.829.\n",
            "Global Round :38, the global accuracy is 73.0%, and the global loss is 0.829.\n",
            "Global Round :39, the global accuracy is 73.0%, and the global loss is 0.829.\n",
            "Global Round :40, the global accuracy is 73.0%, and the global loss is 0.829.\n",
            "Global Round :41, the global accuracy is 72.8%, and the global loss is 0.83.\n",
            "Global Round :42, the global accuracy is 73.0%, and the global loss is 0.828.\n",
            "Global Round :43, the global accuracy is 73.0%, and the global loss is 0.83.\n",
            "Global Round :44, the global accuracy is 73.2%, and the global loss is 0.831.\n",
            "Global Round :45, the global accuracy is 73.2%, and the global loss is 0.83.\n",
            "Global Round :46, the global accuracy is 72.5%, and the global loss is 0.832.\n",
            "Global Round :47, the global accuracy is 73.0%, and the global loss is 0.832.\n",
            "Global Round :48, the global accuracy is 73.0%, and the global loss is 0.832.\n",
            "Global Round :49, the global accuracy is 72.8%, and the global loss is 0.833.\n",
            "Global Round :50, the global accuracy is 73.0%, and the global loss is 0.833.\n",
            "Global Round :51, the global accuracy is 73.0%, and the global loss is 0.833.\n",
            "Global Round :52, the global accuracy is 73.0%, and the global loss is 0.833.\n",
            "Global Round :53, the global accuracy is 72.8%, and the global loss is 0.833.\n",
            "Global Round :54, the global accuracy is 72.8%, and the global loss is 0.834.\n",
            "Global Round :55, the global accuracy is 72.5%, and the global loss is 0.834.\n",
            "Global Round :56, the global accuracy is 72.8%, and the global loss is 0.836.\n",
            "Global Round :57, the global accuracy is 72.2%, and the global loss is 0.836.\n",
            "Global Round :58, the global accuracy is 71.5%, and the global loss is 0.837.\n",
            "Global Round :59, the global accuracy is 71.8%, and the global loss is 0.837.\n"
          ]
        }
      ]
    },
    {
      "cell_type": "markdown",
      "source": [
        "## Comparision"
      ],
      "metadata": {
        "id": "4YNaEPiAW3GN"
      },
      "id": "4YNaEPiAW3GN"
    },
    {
      "cell_type": "code",
      "source": [
        "import matplotlib.pyplot as plt\n",
        "def plot(opti_name,epoch, loss, acc):\n",
        "    plt.figure(figsize=(10,10)) #放大\n",
        "    x = range(epoch)\n",
        "    loss_train = loss\n",
        "    acc_train = acc\n",
        "    plt.subplot(2,1,1)\n",
        "    plt.plot(x,loss_train, color = \"r\")\n",
        "    plt.title(opti_name + \" LOSS vs. epoches\")\n",
        "    \n",
        "    plt.ylabel(\"LOSS\")\n",
        "    plt.subplot(2,1,2)\n",
        "    plt.plot(x,acc_train, color = \"r\")\n",
        "  \n",
        "    plt.ylabel(\"ACCURACY\")\n",
        "    plt.xlabel(\"Epoches\")\n",
        "    plt.xlabel(opti_name + \" ACCURACY vs. epoches\")\n",
        "    plt.show()"
      ],
      "metadata": {
        "id": "goiJkwYQmfwq"
      },
      "id": "goiJkwYQmfwq",
      "execution_count": null,
      "outputs": []
    },
    {
      "cell_type": "code",
      "source": [
        "print(IID_accu)"
      ],
      "metadata": {
        "colab": {
          "base_uri": "https://localhost:8080/"
        },
        "id": "034LwbX2oF8J",
        "outputId": "b8b717d9-eb2c-4d4f-bcfd-999894df196c"
      },
      "id": "034LwbX2oF8J",
      "execution_count": null,
      "outputs": [
        {
          "output_type": "stream",
          "name": "stdout",
          "text": [
            "[0.565, 0.5975, 0.635, 0.6425, 0.665, 0.6675, 0.6725, 0.68, 0.6875, 0.6975, 0.6975, 0.6975, 0.71, 0.715, 0.72, 0.7225, 0.7225, 0.73, 0.73, 0.73, 0.7375, 0.735, 0.735, 0.7325, 0.7325, 0.7325, 0.7425, 0.74, 0.74, 0.7425, 0.74, 0.74, 0.745, 0.755, 0.755, 0.755, 0.755, 0.7575, 0.7575, 0.755, 0.755, 0.755, 0.7525, 0.7525, 0.755, 0.7525, 0.755, 0.755, 0.755, 0.755, 0.755, 0.755, 0.7525, 0.75, 0.7525, 0.75, 0.75, 0.7475, 0.75, 0.7475]\n"
          ]
        }
      ]
    },
    {
      "cell_type": "code",
      "source": [
        "print(IID_loss)"
      ],
      "metadata": {
        "colab": {
          "base_uri": "https://localhost:8080/"
        },
        "id": "e-Ftj9AKoXzQ",
        "outputId": "b3ab5aa8-4e2b-46cf-af54-b98eb2d28dd1"
      },
      "id": "e-Ftj9AKoXzQ",
      "execution_count": null,
      "outputs": [
        {
          "output_type": "stream",
          "name": "stdout",
          "text": [
            "[1.1738750083105904, 0.9957910776138306, 0.9431542924472264, 0.91587552853993, 0.8961282883371625, 0.8796472208840507, 0.8658587847437177, 0.8535975132669721, 0.8437025887625558, 0.8344865781920296, 0.8271403993879046, 0.8199013045855931, 0.8132927247456142, 0.8080423474311829, 0.8035490342548915, 0.7991575769015721, 0.7959823438099453, 0.7929044876779828, 0.7901022604533604, 0.787697800568172, 0.7858852403504508, 0.7841957254069192, 0.7830357040677752, 0.7813507233347211, 0.7798463702201843, 0.7785587055342538, 0.7776468183313098, 0.7764815645558494, 0.7750065156391689, 0.7739401629992894, 0.7726472360747201, 0.7721651877675738, 0.7714317951883588, 0.7706241607666016, 0.7703351719038827, 0.7699057034083775, 0.7694466241768428, 0.7687724913869586, 0.7688637886728559, 0.7687074371746608, 0.7686740585735866, 0.7684046030044556, 0.7686518430709839, 0.7679504070963178, 0.7689285022871835, 0.7686744715486254, 0.7691985496452877, 0.7691837293761117, 0.7699343945298877, 0.7708449363708496, 0.7714992335864476, 0.7718483039311, 0.7720216512680054, 0.7726777536528451, 0.7741063790661948, 0.7744465385164533, 0.7751263124602181, 0.7758275994232723, 0.7759225581373487, 0.7766834838049752]\n"
          ]
        }
      ]
    },
    {
      "cell_type": "code",
      "source": [
        "print(NIID_accu)"
      ],
      "metadata": {
        "colab": {
          "base_uri": "https://localhost:8080/"
        },
        "id": "e5wLrZIyoHyQ",
        "outputId": "17aa7758-9c68-4271-8203-e2362524a136"
      },
      "id": "e5wLrZIyoHyQ",
      "execution_count": null,
      "outputs": [
        {
          "output_type": "stream",
          "name": "stdout",
          "text": [
            "[0.5875, 0.59, 0.61, 0.62, 0.6275, 0.6375, 0.6525, 0.655, 0.66, 0.6625, 0.6675, 0.675, 0.68, 0.695, 0.69, 0.6975, 0.7, 0.71, 0.705, 0.7025, 0.7075, 0.71, 0.7075, 0.71, 0.7125, 0.715, 0.71, 0.71, 0.705, 0.7025, 0.7075, 0.7125, 0.71, 0.715, 0.7125, 0.705, 0.705, 0.71, 0.7125, 0.715, 0.7125, 0.7125, 0.7125, 0.7125, 0.7125, 0.71, 0.7075, 0.7075, 0.7075, 0.705, 0.7, 0.7025, 0.705, 0.7075, 0.705, 0.7075, 0.705, 0.7075, 0.7025, 0.705]\n"
          ]
        }
      ]
    },
    {
      "cell_type": "code",
      "source": [
        "print(NIID_loss)"
      ],
      "metadata": {
        "colab": {
          "base_uri": "https://localhost:8080/"
        },
        "id": "s4CUOFdMobCK",
        "outputId": "4fc04f02-f39f-4183-c658-d4f27079eb22"
      },
      "id": "s4CUOFdMobCK",
      "execution_count": null,
      "outputs": [
        {
          "output_type": "stream",
          "name": "stdout",
          "text": [
            "[1.298877273287092, 1.0930751391819544, 1.0060127462659563, 0.9639158419200352, 0.9369514584541321, 0.9190299425806318, 0.9052702784538269, 0.8931384597505841, 0.8827519416809082, 0.8748129946844918, 0.8681637048721313, 0.8600503206253052, 0.8559356416974749, 0.8514219863074166, 0.847216044153486, 0.8440960390227181, 0.8407577701977321, 0.8383337003844125, 0.8365858452660697, 0.8344288298061916, 0.8335581507001605, 0.8330267838069371, 0.8317688192640033, 0.8318059870174953, 0.8291051387786865, 0.8298518061637878, 0.8275550774165562, 0.8283267787524632, 0.8279749921389988, 0.8284923604556492, 0.8277223706245422, 0.8273940767560687, 0.8276848452431815, 0.8267627358436584, 0.8278939894267491, 0.8281601667404175, 0.8276326315743583, 0.8269274319921222, 0.829441521848951, 0.8287016493933541, 0.8272319861820766, 0.8303524426051548, 0.8292907135827201, 0.8291663868086678, 0.8296842404774257, 0.8298512271472386, 0.8298783302307129, 0.8296949522835868, 0.8313665475164141, 0.8308633055005755, 0.8329350352287292, 0.8320537720407758, 0.8314507731369564, 0.8330645476068769, 0.8315997464316232, 0.8314750790596008, 0.8321645174707685, 0.8329105802944728, 0.8335107735225132, 0.8331018515995571]\n"
          ]
        }
      ]
    },
    {
      "cell_type": "code",
      "source": [
        "print(NIID_w_accu)"
      ],
      "metadata": {
        "colab": {
          "base_uri": "https://localhost:8080/"
        },
        "id": "QbMX96JaoPUo",
        "outputId": "5f88d7a7-00ff-4bed-8c73-39e0f033ddad"
      },
      "id": "QbMX96JaoPUo",
      "execution_count": null,
      "outputs": [
        {
          "output_type": "stream",
          "name": "stdout",
          "text": [
            "[0.5125, 0.5425, 0.59, 0.6025, 0.6125, 0.6225, 0.6325, 0.64, 0.645, 0.645, 0.6525, 0.6575, 0.665, 0.67, 0.67, 0.685, 0.685, 0.6925, 0.6925, 0.7025, 0.7025, 0.705, 0.71, 0.715, 0.715, 0.7175, 0.725, 0.7275, 0.7325, 0.7325, 0.7325, 0.73, 0.735, 0.7325, 0.7325, 0.7375, 0.73, 0.7275, 0.73, 0.73, 0.73, 0.7275, 0.73, 0.73, 0.7325, 0.7325, 0.725, 0.73, 0.73, 0.7275, 0.73, 0.73, 0.73, 0.7275, 0.7275, 0.725, 0.7275, 0.7225, 0.715, 0.7175]\n"
          ]
        }
      ]
    },
    {
      "cell_type": "code",
      "source": [
        "print(NIID_w_loss)"
      ],
      "metadata": {
        "colab": {
          "base_uri": "https://localhost:8080/"
        },
        "id": "798SfRIvoclQ",
        "outputId": "5bec4d10-a9eb-4a40-e0df-87392553e6fe"
      },
      "id": "798SfRIvoclQ",
      "execution_count": null,
      "outputs": [
        {
          "output_type": "stream",
          "name": "stdout",
          "text": [
            "[1.2875819717134749, 1.1070025307791573, 1.0261470675468445, 0.9873384152139936, 0.9634109224591937, 0.9459279435021537, 0.9311997720173427, 0.9205364755221775, 0.9117381743022374, 0.9022581321852547, 0.8962018234389169, 0.8885813781193325, 0.8832784124783107, 0.8776425123214722, 0.8719406383378165, 0.8667728049414498, 0.8623120273862567, 0.8579905203410557, 0.8545264857155936, 0.8510527014732361, 0.8491009729249137, 0.8458685278892517, 0.8423777222633362, 0.841084395136152, 0.8398139136178153, 0.8386983956609454, 0.8367184826305935, 0.8361402409417289, 0.8337064129965646, 0.831821688583919, 0.8316868032727923, 0.8312746797289167, 0.829575777053833, 0.8303003481456211, 0.8294946210724967, 0.8289963006973267, 0.829515448638371, 0.8292731131826129, 0.8288923587117877, 0.8289098058428083, 0.8285036172185626, 0.8301672680037362, 0.8282594169889178, 0.8301139218466622, 0.830821556704385, 0.8303030133247375, 0.8324069636208671, 0.8318111641066415, 0.8316494567053658, 0.8330670254571098, 0.8325987373079572, 0.8327147875513349, 0.8330066544669015, 0.833163857460022, 0.8340572459357125, 0.8341866561344692, 0.8358910168920245, 0.8363080365317208, 0.837404761995588, 0.8365995458194188]\n"
          ]
        }
      ]
    },
    {
      "cell_type": "code",
      "source": [
        "ax = plt.axes()\n",
        "ax.spines['top'].set_visible(False)\n",
        "ax.spines['right'].set_visible(False)\n",
        "plt.xlabel('global around')\n",
        "plt.ylabel('accuracy')\n",
        "# plt.plot(epochs,Adam_test,'b', label='Adam')\n",
        "plt.plot([i for i in range(60)],IID_accu,'r', label='IID')\n",
        "plt.plot([i for i in range(60)],NIID_accu,'b', label='NON-IID')\n",
        "# plt.plot(epochs,test_task3,'b', label='task3 acc')\n",
        "plt.legend()\n",
        "plt.title('Test Accuracy curve')\n",
        "plt.figure()"
      ],
      "metadata": {
        "id": "u5kyzhTWJZsP",
        "colab": {
          "base_uri": "https://localhost:8080/",
          "height": 330
        },
        "outputId": "375a2622-ba16-4104-e912-6545a1e566de"
      },
      "id": "u5kyzhTWJZsP",
      "execution_count": null,
      "outputs": [
        {
          "output_type": "execute_result",
          "data": {
            "text/plain": [
              "<Figure size 432x288 with 0 Axes>"
            ]
          },
          "metadata": {},
          "execution_count": 73
        },
        {
          "output_type": "display_data",
          "data": {
            "text/plain": [
              "<Figure size 432x288 with 1 Axes>"
            ],
            "image/png": "[encoded data removed]"
          },
          "metadata": {
            "needs_background": "light"
          }
        },
        {
          "output_type": "display_data",
          "data": {
            "text/plain": [
              "<Figure size 432x288 with 0 Axes>"
            ]
          },
          "metadata": {}
        }
      ]
    },
    {
      "cell_type": "code",
      "source": [
        "ax = plt.axes()\n",
        "ax.spines['top'].set_visible(False)\n",
        "ax.spines['right'].set_visible(False)\n",
        "plt.xlabel('global around')\n",
        "plt.ylabel('accuracy')\n",
        "# plt.plot(epochs,Adam_test,'b', label='Adam')\n",
        "plt.plot([i for i in range(60)],NIID_w_accu,'r', label='Non-IID with weighted Avg')\n",
        "plt.plot([i for i in range(60)],NIID_accu,'b', label='Non-IID with Avg')\n",
        "# plt.plot(epochs,test_task3,'b', label='task3 acc')\n",
        "plt.legend()\n",
        "plt.title('Test Accuracy curve')\n",
        "plt.figure()"
      ],
      "metadata": {
        "id": "Q-LYb0QGQ-BR",
        "colab": {
          "base_uri": "https://localhost:8080/",
          "height": 330
        },
        "outputId": "54d6bc66-7c82-47f3-9454-dd1fbaca35d6"
      },
      "id": "Q-LYb0QGQ-BR",
      "execution_count": null,
      "outputs": [
        {
          "output_type": "execute_result",
          "data": {
            "text/plain": [
              "<Figure size 432x288 with 0 Axes>"
            ]
          },
          "metadata": {},
          "execution_count": 74
        },
        {
          "output_type": "display_data",
          "data": {
            "text/plain": [
              "<Figure size 432x288 with 1 Axes>"
            ],
            "image/png": "[encoded data removed]"
          },
          "metadata": {
            "needs_background": "light"
          }
        },
        {
          "output_type": "display_data",
          "data": {
            "text/plain": [
              "<Figure size 432x288 with 0 Axes>"
            ]
          },
          "metadata": {}
        }
      ]
    }
  ],
  "metadata": {
    "kernelspec": {
      "display_name": "Python 3 (ipykernel)",
      "language": "python",
      "name": "python3"
    },
    "language_info": {
      "codemirror_mode": {
        "name": "ipython",
        "version": 3
      },
      "file_extension": ".py",
      "mimetype": "text/x-python",
      "name": "python",
      "nbconvert_exporter": "python",
      "pygments_lexer": "ipython3",
      "version": "3.7.9"
    },
    "colab": {
      "provenance": [],
      "toc_visible": true,
      "include_colab_link": true
    },
    "gpuClass": "standard"
  },
  "nbformat": 4,
  "nbformat_minor": 5
}